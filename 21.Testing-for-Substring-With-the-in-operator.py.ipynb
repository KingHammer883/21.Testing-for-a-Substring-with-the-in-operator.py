{
 "cells": [
  {
   "cell_type": "code",
   "execution_count": 1,
   "metadata": {
    "ExecuteTime": {
     "end_time": "2019-01-21T19:41:52.340267Z",
     "start_time": "2019-01-21T19:41:52.329303Z"
    }
   },
   "outputs": [
    {
     "name": "stdout",
     "output_type": "stream",
     "text": [
      "myfile.txt\n",
      "yourfile.txt\n"
     ]
    }
   ],
   "source": [
    "# -*- coding: utf-8 -*-\n",
    "\"\"\"\n",
    "Created on Fri Jan 21, 2019\n",
    "File: Testing for a Substring with the in operator\n",
    "@author: Byen23\n",
    "\n",
    "Another problem involves picking out strings that contains known substrings. FOr example you might wnat to pick out filenames with a .txt extension. A slice would work for this but using Python's in operator is the right operand is the string to be searched. The operator in returns True if the target string is somewhere in teh search string, or False otherwise. The next code segment traverses a list of filenames and prints just the filenames taht have a .txt extension:\n",
    "\"\"\"\n",
    "\n",
    "filelist = [\"myfile.txt\", \"myprogram.exe\", \"yourfile.txt\"]\n",
    "for fileName in filelist:\n",
    "\tif \".txt\" in fileName:\n",
    "\t\tprint(fileName)\n",
    "\t\t\n",
    "\t"
   ]
  },
  {
   "cell_type": "code",
   "execution_count": null,
   "metadata": {},
   "outputs": [],
   "source": []
  }
 ],
 "metadata": {
  "kernelspec": {
   "display_name": "Python 3",
   "language": "python",
   "name": "python3"
  },
  "language_info": {
   "codemirror_mode": {
    "name": "ipython",
    "version": 3
   },
   "file_extension": ".py",
   "mimetype": "text/x-python",
   "name": "python",
   "nbconvert_exporter": "python",
   "pygments_lexer": "ipython3",
   "version": "3.6.8"
  }
 },
 "nbformat": 4,
 "nbformat_minor": 2
}
